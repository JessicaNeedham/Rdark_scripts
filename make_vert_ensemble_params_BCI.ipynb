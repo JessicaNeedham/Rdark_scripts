{
 "cells": [
  {
   "cell_type": "markdown",
   "id": "dba0b46c-95c9-4ece-9eb8-9df72f995937",
   "metadata": {},
   "source": [
    "### Script to generate FATES parameter files \n",
    "- take ensemble members and for each one duplicate and change vertical scaling parameters"
   ]
  },
  {
   "cell_type": "code",
   "execution_count": 1,
   "id": "6b4b7a37-1801-4033-bfbd-4de9eebc4c55",
   "metadata": {},
   "outputs": [],
   "source": [
    "from scipy.stats import qmc\n",
    "import numpy as np\n",
    "\n",
    "import csv\n",
    "import xarray as xr\n",
    "import pandas as pd\n",
    "import os\n",
    "import netCDF4 as nc4\n",
    "import sys\n",
    "import shutil\n",
    "from tempfile import TemporaryFile                                                                                                                                 \n",
    "import argparse                                                                                                                                                                                                                                                                                                       \n",
    "import tempfile \n",
    "import random\n",
    "import re\n",
    "import math\n",
    "\n",
    "import matplotlib.pyplot as plt\n",
    "from matplotlib.pyplot import figure\n",
    "from matplotlib import cm\n",
    "import matplotlib.colors as mcolors\n",
    "from matplotlib.colors import Normalize\n",
    "from matplotlib.colors import BoundaryNorm\n",
    "\n",
    "\n",
    "import functions_py.fates_xarray_functions as fa\n",
    "\n",
    "import modp as mp\n"
   ]
  },
  {
   "cell_type": "markdown",
   "id": "a2d999e9-1b3d-421f-b998-35cc4a0df867",
   "metadata": {},
   "source": [
    "### Load the large ensemble and choose ensemble members with coexistence "
   ]
  },
  {
   "cell_type": "code",
   "execution_count": 2,
   "id": "36d8be45-6270-4091-a54d-f0d0a5038fa0",
   "metadata": {
    "tags": []
   },
   "outputs": [],
   "source": [
    "#  local met  drivers\n",
    "fates = '/pscratch/sd/j/jneedham/elm_runs/bci/mar24/bci_local_ensemble_2pfts_0324.E74c582a640-Feff4c934.2024-03-23/run/bci_local_ensemble_2pfts_0324.E74c582a640-Feff4c934.2024-03-23.h0.ensemble.sofar.nc'\n",
    "fates = xr.open_dataset(fates,  decode_times=False)\n",
    "time = fates.variables['time'] / 365.\n",
    "cohort_size_bins = fates.variables['fates_levscls'][:]\n",
    "nsizebins = len(cohort_size_bins)\n",
    "\n",
    "tave_start =  250\n",
    "tave_stop = 300\n",
    "\n",
    "ninst = 200"
   ]
  },
  {
   "cell_type": "code",
   "execution_count": 3,
   "id": "9daf35b4-09a4-43d8-b30b-93f5e39bf04e",
   "metadata": {
    "tags": []
   },
   "outputs": [],
   "source": [
    "AGB_PF = fa.scpf_to_scls_by_pft(fates.FATES_VEGC_ABOVEGROUND_SZPF, fates)\n",
    "AGB_PF = AGB_PF.sum(dim='fates_levscls')\n",
    "AGB_PF = AGB_PF.isel(time=slice(tave_start, tave_stop)).mean(dim='time')"
   ]
  },
  {
   "cell_type": "code",
   "execution_count": 5,
   "id": "31ff5cc3-9e02-4921-ae43-6798bd3c2d47",
   "metadata": {
    "tags": []
   },
   "outputs": [
    {
     "name": "stdout",
     "output_type": "stream",
     "text": [
      "8\n",
      "[  1  33  41  84 116 144 146 159]\n",
      "[  2  34  42  85 117 145 147 160]\n"
     ]
    }
   ],
   "source": [
    "AGB_tot = AGB_PF.sum(dim='fates_levpft')\n",
    "AGB_PF1 = AGB_PF.isel(fates_levpft=0)\n",
    "\n",
    "ratio = np.squeeze(AGB_PF1/AGB_tot)\n",
    "\n",
    "keep = np.where((ratio >= 0.05) & (ratio <= 0.95))\n",
    "\n",
    "num = np.array(keep).size\n",
    "print(num)\n",
    "\n",
    "print(np.squeeze(keep))\n",
    "\n",
    "keep = np.squeeze(keep) + 1\n",
    "\n",
    "print(keep)"
   ]
  },
  {
   "cell_type": "code",
   "execution_count": 6,
   "id": "4e351416-8bc9-47a2-b13e-1f6731086e95",
   "metadata": {},
   "outputs": [],
   "source": [
    "vals = [2.916, 2.43, 1.944, 1.458]\n",
    "\n",
    "\n",
    "# for each ensemble member with some coexistence... \n",
    "for i in keep :\n",
    "   \n",
    "    input_fname = '/global/homes/j/jneedham/BCI_leafmr/param_dir/Ensemble_params_0324/fates_params_bci_ens_{0}.nc'.format(i)\n",
    "\n",
    "    # for each of four vertical scaling schemes... \n",
    "    for j in range(0,4) : \n",
    "        fout = '/global/homes/j/jneedham/BCI_leafmr/param_dir/Rdark_vert_ensemble/fates_params_rdark_ens{0}_vert{1}.nc'.format(i,j)\n",
    "    \n",
    "        shutil.copyfile(input_fname, fout)                                                                                                                             \n",
    "   \n",
    "        var = 'fates_maintresp_leaf_decay'\n",
    "        organ = 0\n",
    "        val = vals[j]\n",
    "        \n",
    "        pft = 1\n",
    "        mp.main(var = var, pft = pft, fin = fout, val = val, \n",
    "                fout = fout, O = 1, organ = organ)\n",
    "        \n",
    "        pft = 2\n",
    "        mp.main(var = var, pft = pft, fin = fout, val = val, \n",
    "                fout = fout, O = 1, organ = organ)\n",
    "            \n",
    "        "
   ]
  },
  {
   "cell_type": "code",
   "execution_count": 8,
   "id": "4c82e253-e287-4fbc-93a6-131814014dcc",
   "metadata": {},
   "outputs": [
    {
     "name": "stdout",
     "output_type": "stream",
     "text": [
      "1.458\n",
      "1.9440000000000002\n",
      "2.43\n",
      "2.916\n"
     ]
    }
   ],
   "source": [
    "print(2.43*0.6)\n",
    "print(2.43 * 0.8)\n",
    "print(2.43)\n",
    "print(2.43 * 1.2)"
   ]
  },
  {
   "cell_type": "code",
   "execution_count": null,
   "id": "712a1b07-15d7-44ff-a942-5ff113537f38",
   "metadata": {},
   "outputs": [],
   "source": []
  }
 ],
 "metadata": {
  "kernelspec": {
   "display_name": "MyEnv",
   "language": "python",
   "name": "myenv"
  },
  "language_info": {
   "codemirror_mode": {
    "name": "ipython",
    "version": 3
   },
   "file_extension": ".py",
   "mimetype": "text/x-python",
   "name": "python",
   "nbconvert_exporter": "python",
   "pygments_lexer": "ipython3",
   "version": "3.9.7"
  }
 },
 "nbformat": 4,
 "nbformat_minor": 5
}
